{
 "cells": [
  {
   "cell_type": "code",
   "execution_count": null,
   "metadata": {},
   "outputs": [],
   "source": [
    "#df.to_csv(r'D:\\gabriel\\Uni\\Master\\JMeterTests\\ap1.csv')\n",
    "#df.describe()\n",
    "\n",
    "#sns.boxplot(x=df['elapsed'])\n",
    "\n",
    "#df.info()\n",
    "#df.plot.kde()\n",
    "#sns.displot(df, x=\"elapsed\")\n",
    "#sns.histplot(df, x=\"elapsed\", log_scale=True)\n",
    "#df.hist( x=\"elapsed\")\n",
    "\n",
    "absolutPath = r'D:\\gabriel\\Uni\\Master\\gitHub\\micro-cocome-statistics\\measurements'\n",
    "ag1to1 = r'api_gateway_1_to_1_db_distributed'\n",
    "\n",
    "path = r'{}\\{}\\*.csv'.format(absolutPath, ag1to1)\n",
    "#df = pd.concat((pd.read_csv(f) for f in iglob(path, recursive=True)), ignore_index=True)\n",
    "\n",
    "fields = ['elapsed']\n",
    "apg1 = pd.concat((pd.read_csv(f,skipinitialspace=True, usecols=fields) for f in iglob(path, recursive=True)), ignore_index=True)\n",
    "#apg1 = pd.concat((pd.read_csv(f) for f in iglob(path, recursive=True)), ignore_index=True)\n",
    "z = np.abs(stats.zscore(apg1['elapsed']))\n",
    "z\n",
    "data_clean = apg1[(z<3)]\n",
    "data_clean.describe()\n",
    "data_clean.hist()\n",
    "sns.displot(data_clean, x=\"elapsed\")"
   ]
  },
  {
   "cell_type": "code",
   "execution_count": null,
   "metadata": {},
   "outputs": [],
   "source": [
    "from glob import iglob\n",
    "import pandas as pd\n",
    "import matplotlib \n",
    "import seaborn as sns\n",
    "import numpy as np\n",
    "import scipy.stats as stats\n",
    "\n",
    "\n",
    "absolutPath = r'D:\\gabriel\\Uni\\Master\\gitHub\\micro-cocome-statistics\\measurements'\n",
    "ag1to1 = r'api_gateway_1_to_1_db_distributed'\n",
    "\n",
    "path = r'{}\\{}\\*.csv'.format(absolutPath, ag1to1)\n",
    "#df = pd.concat((pd.read_csv(f) for f in iglob(path, recursive=True)), ignore_index=True)\n",
    "\n",
    "fields = ['elapsed']\n",
    "apg1 = pd.concat((pd.read_csv(f,skipinitialspace=True, usecols=fields) for f in iglob(path, recursive=True)), ignore_index=True)\n",
    "#apg1 = pd.concat((pd.read_csv(f) for f in iglob(path, recursive=True)), ignore_index=True)\n",
    "z = np.abs(stats.zscore(apg1['elapsed']))\n",
    "z\n",
    "data_clean = apg1[(z<3)]\n",
    "data_clean.describe()\n",
    "data_clean.hist()\n",
    "sns.displot(data_clean, x=\"elapsed\")"
   ]
  },
  {
   "cell_type": "code",
   "execution_count": null,
   "metadata": {},
   "outputs": [],
   "source": [
    "You can do that as follows:\n",
    "\n",
    "Select all cells : ESC + SHIFT + DOWN (starting from the top)\n",
    "Then click ESC + D D (D twice)"
   ]
  }
 ],
 "metadata": {
  "kernelspec": {
   "display_name": "Python 3",
   "language": "python",
   "name": "python3"
  },
  "language_info": {
   "codemirror_mode": {
    "name": "ipython",
    "version": 3
   },
   "file_extension": ".py",
   "mimetype": "text/x-python",
   "name": "python",
   "nbconvert_exporter": "python",
   "pygments_lexer": "ipython3",
   "version": "3.8.6"
  }
 },
 "nbformat": 4,
 "nbformat_minor": 4
}
